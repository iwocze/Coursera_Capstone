{
 "cells": [
  {
   "cell_type": "markdown",
   "metadata": {},
   "source": [
    "# Introduction"
   ]
  },
  {
   "cell_type": "markdown",
   "metadata": {},
   "source": [
    "This project is mainly directed toward people who are planning to rent an apartament in Warsaw. Let's suppose you are that person.\n",
    "\n",
    "When moving to Warsaw you probably need to take into account few factors such as price, area, location of the apartment as well as venues in a particular area. The main purpose of conducted analysis is to get an answers on the following questions:\n",
    "\n",
    "1. Which district of Warsaw is the most expensive?\n",
    "2. Which district has the most venues to offer?\n",
    "3. Is there any correlation between these factors (price, number of venues)?\n",
    "\n",
    "\n",
    "Those kind of research would be also helpful for a flat owner who wants to rent a flat and need to set a rental price."
   ]
  },
  {
   "cell_type": "markdown",
   "metadata": {},
   "source": [
    "# Data"
   ]
  },
  {
   "cell_type": "markdown",
   "metadata": {},
   "source": [
    "### This project will rely on public data from Wikipedia, Foursquare API and a local website with apartament listings."
   ]
  },
  {
   "cell_type": "markdown",
   "metadata": {},
   "source": [
    "### Data sources : \n",
    "1. https://en.wikipedia.org/wiki/Districts_of_Warsaw\n",
    "\n",
    "2. https://warszawa.nieruchomosci-online.pl   \n",
    "\n",
    "3. A geoJSON file of Warsaw districts, used to build the interactive maps in the right places.\n",
    "\n",
    "4. Foursquare API"
   ]
  },
  {
   "cell_type": "markdown",
   "metadata": {},
   "source": [
    "For the Warsaw districts data, a Wikipedia page exists that has all the information we need to explore and cluster the neighborhoods in Warsaw. We will scrape the Wikipedia page and wrangle the data, clean it, and then read it into a pandas dataframe so that it is in a structured format. The data on apartments (size, district, and price) is collected by scraping a local website with apartment listings (https://warszawa.nieruchomosci-online.pl). Using geopy we are able to find the coordinates for each district and then using Foursquare API we collect the closest venues (supermarket, restaurant, park, etc.)"
   ]
  },
  {
   "cell_type": "code",
   "execution_count": null,
   "metadata": {},
   "outputs": [],
   "source": []
  }
 ],
 "metadata": {
  "kernelspec": {
   "display_name": "Python 3",
   "language": "python",
   "name": "python3"
  },
  "language_info": {
   "codemirror_mode": {
    "name": "ipython",
    "version": 3
   },
   "file_extension": ".py",
   "mimetype": "text/x-python",
   "name": "python",
   "nbconvert_exporter": "python",
   "pygments_lexer": "ipython3",
   "version": "3.7.4"
  }
 },
 "nbformat": 4,
 "nbformat_minor": 2
}
